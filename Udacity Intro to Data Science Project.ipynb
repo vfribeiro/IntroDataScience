{
 "cells": [
  {
   "cell_type": "markdown",
   "metadata": {},
   "source": [
    "# Analyzing the NYC Subway Dataset\n",
    "\n",
    "Project connected to the [Udacity Intro to Data Science course](https://www.udacity.com/course/viewer#!/c-ud359-nd).\n",
    "\n",
    "by Victor Ribeiro, October/2015\n",
    "\n",
    "---"
   ]
  },
  {
   "cell_type": "markdown",
   "metadata": {},
   "source": [
    "### Section 0. References\n",
    "\n",
    "**About the Dataset**\n",
    "\n",
    "Turnstile and Weather Variables dataset reports on the cumulative number of entries and exists in the NYC with additional information about the weather. \n",
    "\n",
    "* [Original Dataset](https://www.dropbox.com/s/meyki2wl9xfa7yk/turnstile_data_master_with_weather.csv) - data set used throughout the course\n",
    "* [Improved Dataset](https://www.dropbox.com/s/1lpoeh2w6px4diu/improved-dataset.zip?dl=0) - cleaned-up subset of original dataset with additional variables. This is the dataset used in the project below. [Variables in the dataset](https://s3.amazonaws.com/uploads.hipchat.com/23756/665149/05bgLZqSsMycnkg/turnstile-weather-variables.pdf)\n",
    "\n",
    "**References**\n",
    "\n",
    "* [Mann-Whitney U Test](https://storage.googleapis.com/supplemental_media/udacityu/4332539257/MannWhitneyUTest.pdf) Udacity\n",
    "* [Mann-Whitney U Test](https://en.wikipedia.org/wiki/Mann%E2%80%93Whitney_U_test) Wikipedia\n",
    "* [Diez, David; Barr, Christopher; Çetinkaya-Rundel, Mine] OpenIntro Statistics, Third Edition\n",
    "\n",
    "---"
   ]
  },
  {
   "cell_type": "markdown",
   "metadata": {},
   "source": [
    "### Section 1. Statistical Test\n",
    "\n",
    "**1.1 Which statistical test did you use to analyze the NYC subway data? Did you use a one-tail or a two-tail P value? What is the null hypothesis? What is your p-critical value?**\n",
    "\n",
    "The null hypothesis is : there's no difference between number of rides in the metro during raining days vs. not raining days. \n",
    "\n",
    "The alternative hypothesis is : there's a difference between number of rides in the metro during raining days vs.\n",
    "not raining days.\n",
    "\n",
    "The data for the analysis above does not follow a normal distribution as seem in class and histogram below. Thus, Mann-Whitney U Test is applied. It's a two-tail test and p-critical value 5% (or 0.05).\n",
    "\n",
    "**1.2 Why is this statistical test applicable to the dataset? In particular, consider the assumptions that the test is making about the distribution of ridership in the two samples.**\n",
    "\n",
    "**1.3 What results did you get from this statistical test? These should include the following numerical values: p-values, as well as the means for each of the two samples under test.**\n",
    "\n",
    "**1.4 What is the significance and interpretation of these results?**\n",
    "\n",
    "\n",
    "---"
   ]
  },
  {
   "cell_type": "markdown",
   "metadata": {},
   "source": [
    "### Section 2. Linear Regression\n",
    "\n",
    "**2.1 What approach did you use to compute the coefficients theta and produce prediction for ENTRIESn_hourly in your regression model:**\n",
    "- **OLS using Statsmodels or Scikit Learn,**\n",
    "- **Gradient descent using Scikit Learn,**\n",
    "- **Or something different?**\n",
    "\n",
    "**2.2 What features (input variables) did you use in your model? Did you use any dummy variables as part of your features?**\n",
    "\n",
    "**2.3 Why did you select these features in your model? We are looking for specific reasons that lead you to believe that the selected features will contribute to the predictive power of your model.**\n",
    "- **Your reasons might be based on intuition. For example, response for fog might be: “I decided to use fog because I thought that when it is very foggy outside people might decide to use the subway more often.”**\n",
    "- **Your reasons might also be based on data exploration and experimentation, for example: “I used feature X because as soon as I included it in my model, it drastically improved my R2 value.”**\n",
    "\n",
    "**2.4 What are the parameters (also known as \"coefficients\" or \"weights\") of the non-dummy features in your linear regression model?**\n",
    "\n",
    "**2.5 What is your model’s R2 (coefficients of determination) value?**\n",
    "\n",
    "**2.6 What does this R2 value mean for the goodness of fit for your regression model? Do you think this linear model to predict ridership is appropriate for this dataset, given this R2  value?**\n",
    "\n",
    "---"
   ]
  },
  {
   "cell_type": "markdown",
   "metadata": {},
   "source": [
    "### Section 3. Visualization\n",
    "\n",
    "**Please include two visualizations that show the relationships between two or more variables in the NYC subway data.\n",
    "Remember to add appropriate titles and axes labels to your plots. Also, please add a short description below each figure commenting on the key insights depicted in the figure.**\n",
    "\n",
    "**3.1 One visualization should contain two histograms: one of  ENTRIESn_hourly for rainy days and one of ENTRIESn_hourly for non-rainy days.**\n",
    "- **You can combine the two histograms in a single plot or you can use two separate plots.**\n",
    "- **If you decide to use to two separate plots for the two histograms, please ensure that the x-axis limits for both of the plots are identical. It is much easier to compare the two in that case.**\n",
    "- **For the histograms, you should have intervals representing the volume of ridership (value of ENTRIESn_hourly) on the x-axis and the frequency of occurrence on the y-axis. For example, each interval (along the x-axis), the height of the bar for this interval will represent the number of records (rows in our data) that have ENTRIESn_hourly that falls in this interval.**\n",
    "- **Remember to increase the number of bins in the histogram (by having larger number of bars). The default bin width is not sufficient to capture the variability in the two samples.**\n",
    "\n",
    "**3.2 One visualization can be more freeform. You should feel free to implement something that we discussed in class (e.g., scatter plots, line plots) or attempt to implement something more advanced if you'd like. Some suggestions are:**\n",
    "- **Ridership by time-of-day**\n",
    "- **Ridership by day-of-week**\n",
    "\n",
    "---"
   ]
  },
  {
   "cell_type": "markdown",
   "metadata": {},
   "source": [
    "### Section 4. Conclusion\n",
    "\n",
    "**Please address the following questions in detail. Your answers should be 1-2 paragraphs long.**\n",
    "\n",
    "**4.1 From your analysis and interpretation of the data, do more people ride\n",
    "the NYC subway when it is raining or when it is not raining?**\n",
    "\n",
    "**4.2 What analyses lead you to this conclusion? You should use results from both your statistical\n",
    "tests and your linear regression to support your analysis.**\n",
    "\n",
    "---"
   ]
  },
  {
   "cell_type": "markdown",
   "metadata": {},
   "source": [
    "### Section 5. Reflection\n",
    "\n",
    "**Please address the following questions in detail. Your answers should be 1-2 paragraphs long.**\n",
    "\n",
    "**5.1 Please discuss potential shortcomings of the methods of your analysis, including:**\n",
    "- **Dataset,**\n",
    "- **Analysis, such as the linear regression model or statistical test.**\n",
    "\n",
    "**5.2 (Optional) Do you have any other insight about the dataset that you would like to share with us?**\n",
    "\n",
    "---"
   ]
  },
  {
   "cell_type": "code",
   "execution_count": null,
   "metadata": {
    "collapsed": true
   },
   "outputs": [],
   "source": []
  }
 ],
 "metadata": {
  "kernelspec": {
   "display_name": "Python 2",
   "language": "python",
   "name": "python2"
  },
  "language_info": {
   "codemirror_mode": {
    "name": "ipython",
    "version": 2
   },
   "file_extension": ".py",
   "mimetype": "text/x-python",
   "name": "python",
   "nbconvert_exporter": "python",
   "pygments_lexer": "ipython2",
   "version": "2.7.10"
  }
 },
 "nbformat": 4,
 "nbformat_minor": 0
}
